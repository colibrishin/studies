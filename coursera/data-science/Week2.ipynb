{
 "cells": [
  {
   "cell_type": "markdown",
   "metadata": {},
   "source": [
    "# Week 2\n",
    "## Machine Learning\n",
    "    A subset of AI that uses computer algorithms to analyze data and make intelligent decisions based on what it has learned, without being explicitly programmed.\n",
    "    - Trained with large sets of data\n",
    "    - They do not follow rules-based algorithms\n",
    "    - They learn from examples\n",
    "## Deep Learning\n",
    "    A "
   ]
  }
 ],
 "metadata": {
  "language_info": {
   "name": "python"
  },
  "orig_nbformat": 4
 },
 "nbformat": 4,
 "nbformat_minor": 2
}
