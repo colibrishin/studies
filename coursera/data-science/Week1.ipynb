{
 "cells": [
  {
   "cell_type": "markdown",
   "metadata": {},
   "source": [
    "# Week 1\n",
    "# Data Science\n",
    "### Definition\n",
    "    - Data science is the study of large quantities of data, which can reveal insights that help organizations make strategic choices.\n",
    "    - the field of exploring, manipulating, and analyzing data, and using data to answer questions or make recommendations.\n",
    "### Fundamentals of Data Science\n",
    "    - Understand their environments\n",
    "    - Analyze existing issues\n",
    "    - Reveal previously hidden opportunities\n",
    "#### Be Curious, Judgemental and Argumentative\n",
    "#### 'Macroscopic' Steps\n",
    "    - Clarify the business need\n",
    "    - What data do we need to solve the problem, and where can we get those?\n",
    "        - Structured - Tabular Data (Rows, Columns)\n",
    "        - Unstructed Data - Not Tabular Data\n",
    "    - Data visualization\n",
    "## What Do Data Scientists Do?\n",
    "### Old problems, new problems, Data Science soultions\n",
    "    - Identify the problem\n",
    "    - Gather the data for analysis\n",
    "    - Identify the right tools to use\n",
    "    - Develop a data strategy\n",
    "    - Case Study also helpful"
   ]
  },
  {
   "cell_type": "markdown",
   "metadata": {},
   "source": [
    "# Week 2\n",
    "## Big Data\n",
    "### Definition\n",
    "    - \"Big Data refers to the dynamic, large and disparate volumnes of data being created by people, tools, and machines. It requires new, innovative, and scalable techonolgy to collect, host and analytically process the vast amount of data gathered in order to derive real-time business ingisghts that relate to consumers, risk, profit, performance, productivity management, and enhanced shareholder value.\", Ernst and Young\n",
    "#### The V of Big data\n",
    "    - Velocity - Generating speed of data\n",
    "    - Volume - Scale of data\n",
    "    - Variety - Diversity of data (Structed, Non-structed) and Data from Machine, People, Process.\n",
    "    - Veracity - Quality and Origin (Accuracy) of data\n",
    "    - Value - Ability and need to turn data into value\n",
    "https://everysecond.io/youtube\n",
    "## Digital Transformation\n",
    "    - ex : Houston Rocket\n",
    "        - Mining gameplay data by recording game in tracking data\n",
    "        - Found that 'three-point shot outside of three-point line' attempt gave more points than inside.\n",
    "        - Discover best play for earning points. Change the strategy of gameplay based on analytic.\n",
    "## Data Mining\n",
    "### Establishing Data Mining Goals\n",
    "    - the cost-benefit trade-offs for the desired level of accuracy are important considerations for data mining goals.\n",
    "### Selecting Data\n",
    "    - identifying the right kind of data needed for data mining that could answer the questions at reasonable costs is critical.\n",
    "### Preprocessing Data\n",
    "    - identify the irrelevant attributes of data and expunge such attributes from further consideration.\n",
    "### Transforming Data\n",
    "    - Determine the appropriate format in which data must be stored.\n",
    "    - Reduce the number of attributes needed to explain the phenomena.\n",
    "    - transforming data Data reduction algorithms, such as Principal Component Analysis can reduce the number of attributes without a significant loss in information.\n",
    "    - Often you need to transform variables from one type to another. It may be prudent to transform the continuous variable for income into a categorical variable where each record in the database is identified as low, medium, and high-income individual.\n",
    "        - This could help capture the non-linearities in the underlying behaviors.\n",
    "### Storing Data\n",
    "    - Data must be stored in a format that gives unrestricted and immediate read/write privileges to the data scientist. \n",
    "    - The data storage scheme should facilitate efficiently reading from and writing to the database.\n",
    "### Mining Data\n",
    "    - Data analysis methods, including parametric and non-parametric methods, and machine-learning algorithms. A good starting point for data mining is data visualization\n",
    "### Evaluating MIning Results\n",
    "    - testing the predictive capabilities of the models on observed data to see how effective and efficient the algorithms have been in reproducing data. (= In-sample forecast)\n"
   ]
  }
 ],
 "metadata": {
  "language_info": {
   "name": "python"
  },
  "orig_nbformat": 4
 },
 "nbformat": 4,
 "nbformat_minor": 2
}
