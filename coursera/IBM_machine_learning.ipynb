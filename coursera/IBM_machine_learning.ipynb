{
 "cells": [
  {
   "cell_type": "markdown",
   "metadata": {},
   "source": [
    "# Regression\n",
    "- Process of predicintg a continuous value\n",
    "- Y, Dependent Variable\n",
    "- X, Independent Variable; Explainatory Variable\n",
    "    - 독립변수, 종속변수 \n",
    "    - Should be Countinous and not discrete\n",
    "\n",
    "- Simple Regression - a Dependent Variable vs a Independent Variable\n",
    "- Multiple Regression - Dependent Variables vs a Independent Variable\n",
    "\n",
    "Area\n",
    "- Sales forecasting\n",
    "- Satisfaction analysis\n",
    "- Price estimation\n",
    "- Employment income\n",
    "\n",
    "Regression algorithms\n",
    "- Oridinal, Poisson, Fast forest quantile, Linear, Polynomial, LAsso, Stepwise, Ridge regression\n",
    "- Baqyesian linear, Neural network, Decision forest, Boosted decision tree, KNN\n",
    "\n",
    "Response variable (y hat)\n",
    "\n",
    "Residual Error - (잔차오차) \n",
    "\n",
    "Mean Square Error\n",
    "- MSE = Sum of (y_i - yhat_i)^2 from i to n divide by n"
   ]
  },
  {
   "cell_type": "markdown",
   "metadata": {},
   "source": [
    "# Model Evaluation\n",
    "- Training Accuracy\n",
    "    - High Accuracy =/= Good -> Overfitting, capture noise and produce a non-generalized model\n",
    "- Out-of-Sample Accuracy\n",
    "    - For getting correct data on unknown data\n",
    "    - Method\n",
    "        - Train/Test Split\n",
    "        - K-fold Cross-validation\n",
    "            - Split dataset with N sections. select one sections for test and rest of data will be used for training.\n",
    "            - Accuracy = avg of every validation accuracy"
   ]
  },
  {
   "cell_type": "markdown",
   "metadata": {},
   "source": [
    "# Model Evaluation Metrics\n",
    "\n",
    "- Mean Absolute Error - sum(abs(y_i - yhat_i))\n",
    "- Mean Square Error - sum((y_i - yhat_i)^2) 큰 에러 값을 찾는데 좋음 (제곱을 구하기 때문에)\n",
    "- Root Mean Squared Error - Response vector (y_true,)와 그대로 적용하기 좋은 숫자가 나오기 때문에 주로 사용됨\n",
    "- Relative Absolute Error - sum(y_i - y_hat / y_i - y_bar ) (where y_bar is mean value of y)\n",
    "- Relative Square Error - Square up!\n",
    "- R^2 = 1 - RSE"
   ]
  },
  {
   "cell_type": "markdown",
   "metadata": {},
   "source": [
    "# Multiple Linear Regression\n",
    "\n",
    "- Independent variables effectiveness on prediction\n",
    "    - i.e, revision time, test anxiety, lecture attendance and gender have any effect on the exam perfomance of students?\n",
    "- Predicting impacts of changes\n",
    "    - How much does blood pressure go up (or down) for every unit increase (or decrease) in the BMI of a patient?\n",
    "\n",
    "y_hat = theta0 + sum of theta_i * x_i from 1 to n\n",
    "y_hat = theta_T * X (Vector dot production)"
   ]
  }
 ],
 "metadata": {
  "language_info": {
   "name": "python"
  },
  "orig_nbformat": 4
 },
 "nbformat": 4,
 "nbformat_minor": 2
}
