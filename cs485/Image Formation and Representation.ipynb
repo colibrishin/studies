{
 "cells": [
  {
   "cell_type": "markdown",
   "metadata": {},
   "source": [
    "*Based on https://www.cse.unr.edu/~bebis/CS485/*"
   ]
  },
  {
   "cell_type": "markdown",
   "metadata": {},
   "source": [
    "# Image Formation and Representation"
   ]
  },
  {
   "cell_type": "markdown",
   "metadata": {},
   "source": [
    "## Simple model of image formation\n",
    "    Scene is...\n",
    "        Illuminated by a single source\n",
    "        Reflects radiation towards the camera\n",
    "        Senses it via Solid State Cells (CCD Cameras)\n",
    "$$\n",
    "    f(x,y)=i(x,y)r(x,y) \\\\\n",
    "    \\text{where i : illumination, r : reflectance}\n",
    "$$\n",
    "![title](img/simple_model_of_image_formation.jpg)\n",
    "- Geometry\n",
    "    - Determines where in the image plane the projection of a poin in the scene will be located\n",
    "- Physics of Light\n",
    "    - Determines the brightness of a point in the image plane"
   ]
  },
  {
   "cell_type": "markdown",
   "metadata": {},
   "source": [
    "## Let's design a camera\n",
    "### \"A Barrier\"\n",
    "![title](img/pinhole_camera.png)\n",
    "- Add a barrier with a small opening (i.e. **aperture**) to block off most of the rays to reduce blurring\n",
    "- \"Pinhole\" camera model\n",
    "    - Rays of light pass through a \"pinhole\" and form an **inverted** image of the object on the image plane.\n",
    "- Perspective projection\n",
    "$$\n",
    "    x = fX/Z \\\\\n",
    "    y = fY/Z \\\\\n",
    "    \\text{where f: focal length}\n",
    "$$"
   ]
  },
  {
   "cell_type": "markdown",
   "metadata": {},
   "source": [
    "### Effect of aperture size\n",
    "![title](img/aperture1.jpg)\n",
    "![title](img/aperture2.jpg)\n",
    "- Small\n",
    "    - Reduce blurring\n",
    "    - Limit the amount of light entering the camrea\n",
    "    - Light Diffraction (Light scattered, FOV distortion)\n",
    "- Large\n",
    "    - Light from the source spreads across the image (i.e, not properly focused)\n",
    "    - Blurry"
   ]
  },
  {
   "cell_type": "markdown",
   "metadata": {},
   "source": [
    "## Lens\n",
    "    Lens duplicate pinhole geometry without resorting to undesirably small apertures.\n",
    "        - Gather all the light radiating from an object point towards the lens' finite aperture\n",
    "        - Bring light into focus at single distinct image point\n",
    "![title](img/lens.png)\n",
    "![title](img/lens_to_image.jpg)\n",
    "- Refraction\n",
    "    - Bending of wave when it enters a medium where its speed is different\n",
    "\n",
    "![title](img/lens_goes_light.png)\n",
    "- Focal point\n",
    "    - Rays are perpendicular to the lens"
   ]
  }
 ],
 "metadata": {
  "language_info": {
   "name": "python"
  },
  "orig_nbformat": 4
 },
 "nbformat": 4,
 "nbformat_minor": 2
}
