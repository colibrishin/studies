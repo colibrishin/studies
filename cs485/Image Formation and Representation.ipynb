{
 "cells": [
  {
   "cell_type": "markdown",
   "metadata": {},
   "source": [
    "*Based on https://www.cse.unr.edu/~bebis/CS485/*"
   ]
  },
  {
   "cell_type": "markdown",
   "metadata": {},
   "source": [
    "# Image Formation and Representation"
   ]
  },
  {
   "cell_type": "markdown",
   "metadata": {},
   "source": [
    "## 간단한 이미지의 형성과정 모델\n",
    "    장면은...\n",
    "        Illuminated by a single source (하나의 출처로부터 전자기파을 받고)\n",
    "        Reflects radiation towards the camera (전자기파을 카메라로 반사하고)\n",
    "        Senses it via Solid State Cells (CCD Cameras) (CCD 카메라일 경우 Solide State Cells를 통해 감지된다)\n",
    "$$\n",
    "    f(x,y)=i(x,y)r(x,y) \\\\\n",
    "    \\text{where i : illumination, r : reflectance}\n",
    "$$\n",
    "![title](img/simple_model_of_image_formation.jpg)\n",
    "- 기하학적으로, *Geometry*\n",
    "    - 어떤 이미지 상에 어떤 장면이 투영될지 결정함 *Determines where in the image plane the projection of a point in the scene will be located*\n",
    "- 빛의 성질은, *Physics of Light*\n",
    "    - 어떤 이미지 위치의 밝기를 결정함 *Determines the brightness of a point in the image plane*"
   ]
  },
  {
   "cell_type": "markdown",
   "metadata": {},
   "source": [
    "## 카메라를 만들어보자! *Let's design a camera*\n",
    "### \"막\" *\"A Barrier\"*\n",
    "![title](img/pinhole_camera.png)\n",
    "- \"바늘구멍\" 카메라 모델 *\"Pinhole\" camera model*\n",
    "    - 작은 구멍(즉, **조리개**)이 있는 막을 추가하여 대부분의 광선을 막아 흐림을 감소시킴 *Add a barrier with a small opening (i.e. **aperture**) to block off most of the rays to reduce blurring*\n",
    "    - 광선들이 \"바늘구멍\"을 지나 **반전된** 물체의 이미지가 이미지 상에 생김 *Rays of light pass through a \"pinhole\" and form an **inverted** image of the object on the image plane.*\n",
    "- 원근법 투영 *Perspective projection*\n",
    "$$\n",
    "    x = \\frac{fX}{Z}, y = \\frac{fY}{Z} \\newline\n",
    "    \\text{where f: focal length}\n",
    "$$"
   ]
  },
  {
   "cell_type": "markdown",
   "metadata": {},
   "source": [
    "### 조리개의 효과 *Effect of aperture size*\n",
    "![title](img/aperture1.jpg)\n",
    "![title](img/aperture2.jpg)\n",
    "- 작다! *Small*\n",
    "    - 흐림을 줄여주며 *Reduce blurring*\n",
    "    - 카메라로 들어오는 빛의 양을 줄여주고 *Limit the amount of light entering the camrea*\n",
    "    - 빛의 회절이 생긴다 (빛이 흩어지면서, 시야가 왜곡됨) *Light Diffraction (Light scattered, FOV distortion)*\n",
    "- 크다! *Large*\n",
    "    - 원점으로부터 오는 빛이 이미지에 흩뿌려짐 (즉, 제대로 초점이 맞지 않음) *Light from the source spreads across the image (i.e, not properly focused)*\n",
    "    - 흐릿함 *Blurry*"
   ]
  },
  {
   "cell_type": "markdown",
   "metadata": {},
   "source": [
    "## 렌즈 *Lens*\n",
    "    Lens duplicate pinhole geometry without resorting to undesirably small apertures. (렌즈는 바늘구멍 구조에서 작은 조리개로 생기는 재손실 문제 없이 똑같은 결과를 얻을 수 있다.)\n",
    "        - Gather all the light radiating from an object point towards the lens' finite aperture (유한한 렌즈의 조리개를 향해 물체가 방사하는 빛을 모두 모을 수 있고)\n",
    "        - Bring light into focus at single distinct image point (빛을 각각 개별의 이미지 지점에 초점을 모을 수 있다.)\n",
    "![title](img/lens.png)\n",
    "![title](img/lens_to_image.jpg)\n",
    "- 굴절 *Refraction*\n",
    "    - 매체를 통과할때 속도 차이에 따른 파동의 휨 *Bending of wave when it enters a medium where its speed is different*\n",
    "\n",
    "![title](img/lens_goes_light.png)\n",
    "- 결절점 *Focal point*\n",
    "    - 빛이 모이는 지점. 광선들은 렌즈에 수직임 *Rays are perpendicular to the lens*\n",
    "### Properties of \"thin\" lens\n",
    "- 초점면 *Focal plane*\n",
    "    - 결절점에서 렌즈에 평행인 면 *The plane parallel to the lens at the focal point*\n",
    "- Focal length $f$\n",
    "    - 초점면과 렌즈 사이의 거리 *The distance between the lens and the focal plane*"
   ]
  },
  {
   "cell_type": "markdown",
   "metadata": {},
   "source": [
    "#### Equation\n",
    "$$\n",
    "\\text{Assume an object at distance } u \\text{ from the lens plane:} \\\\\n",
    "$$\n",
    "![title](img/equation1.png)\n",
    "$$\n",
    "\\text{Using similar triangles:}\\\\\n",
    "y'/y = v/u\n",
    "$$\n",
    "![title](img/equation2.png)\n",
    "$$\n",
    "y'/y = (v-f)/f\n",
    "$$\n",
    "![title](img/equation3.png)\n",
    "$$\n",
    "1/u + 1/v = 1/f\n",
    "$$\n",
    "![title](img/equation4.png)\n",
    "- The thin lens equation implies that only points at distance u from the lens are \"in focus\"\n",
    "    - (i.e, focal point lies on image plane)\n",
    "- Other points project to a \"blur circle\" or \"circle of confusion\" in the image \n",
    "    - (i.e, blurring occurs)\n",
    "- When objects move far away from the camera, then the focal plane approaches the image plane."
   ]
  },
  {
   "cell_type": "markdown",
   "metadata": {},
   "source": [
    "## 피사계 심도 *Depth of Field*\n",
    "    The range of depths over which the world is approximately sharp (i.e, in focus) (세상이 거의 날카롭게 보이는 심도의 범위 (즉, 초점이 맞았다))\n",
    "- 흐릿한 원(Circle of Confusion)의 크기는 조리개의 크기와 비례함 *The size of blur circle is proportional to aperture size*\n",
    "- 조리개의 크기 변화(가변 조리개)는 심도에 영향을 줌 *Changing aperture size (controlled by diaphragm) affects depth of field*\n",
    "    - 작은 조리개 = 피사계 심도를 늘리지만 노출 시간을 높여야 함 *A smaller aperture = increases the range + need to increase exposure time*\n",
    "    - 큰 조리개 = 피사계 심도를 낮추지만, 노출시간을 줄여야 함 *A larger apertrue = decreases the depth of field + need to decrease exposure time*"
   ]
  },
  {
   "cell_type": "markdown",
   "metadata": {},
   "source": [
    "## 시야 *Field of View*\n",
    "    The cone of viewing direction of the camera. Inversely proportional to focal length. (원뿔 형태의 카메라가 보는 방향. 결절점과 반비례함)\n",
    "![title](img/fov1.png)\n",
    "![title](img/fov2.png)\n"
   ]
  },
  {
   "cell_type": "markdown",
   "metadata": {},
   "source": [
    "### Example. Car\n",
    "- Small $f$, Large FOV \\\n",
    "    ![title](img/small_f_car.png)\n",
    "- Large $f$, Small FOV \\\n",
    "    ![title](img/large_f_car.png)\n"
   ]
  },
  {
   "cell_type": "markdown",
   "metadata": {},
   "source": [
    "### Example. Face \n",
    "(small $f$ to large $f$, large FOV to small FOV)\\\n",
    "![title](img/face_distort1.jpg) \\\n",
    "![title](img/face_distort2.jpg) \\\n",
    "![title](img/face_distort3.jpg)"
   ]
  },
  {
   "cell_type": "markdown",
   "metadata": {},
   "source": [
    "## Real lenses\n",
    "![title](img/real_lenses.png)"
   ]
  },
  {
   "cell_type": "markdown",
   "metadata": {},
   "source": [
    "### Lens Flaws\n",
    "#### Chromatic Aberration\n",
    "    Lens has different refractive indices for different wavelengths\n",
    "    Could cause color fringing\n",
    "        i.e lens cannot focus all the colors at the same point.\n",
    "![title](img/chromatic_aberration1.jpg)\n",
    "![title](img/chromatic_aberration2.jpg)"
   ]
  },
  {
   "cell_type": "markdown",
   "metadata": {},
   "source": [
    "#### Radial Distortion\n",
    "    Straight lines become distorted as we move further away from the center of the image\n",
    "    Deviations are most noticeable for rays that pass through the edge of the lens\n",
    "![title](img/radial_distortion1.jpg)\n",
    "![title](img/radial_distortion2.png)"
   ]
  },
  {
   "cell_type": "markdown",
   "metadata": {},
   "source": [
    "#### Tangential Distortion\n",
    "    Lens is not exactly parallel to the imaging plane"
   ]
  },
  {
   "cell_type": "markdown",
   "metadata": {},
   "source": [
    "## Human Eye\n",
    "    aperture (= pupil), lens mechanism for focusing(zoom in/out), surface for registering images (= retina)\n",
    "![title](img/human_eye.png)\n",
    "- In a camera, focusing at various distances is achieved by varying the distance between the lens and the imaging plane\n",
    "- In the human eye, the distance between the lens and the retina is fixed (14 ~ 17 mm)\n",
    "- Focusing is achieved by varying the shape of the lens (= flattening of thickening by using ciliary muscle, fiber-?)\n",
    "- Retina contains light sensitive cells that convert light energy into electrical impusles that travel through nerves to the brain\n",
    "- Brain interprets the electrical signals to form images."
   ]
  },
  {
   "cell_type": "markdown",
   "metadata": {},
   "source": [
    "- Two kinds of light-sensitive cells\n",
    "    - 간상세포 rods and 원뿔세포 cone (unevenly distributed)\n",
    "    - Cones (6-7 million)\n",
    "        - Responsible for all color vision and are present throughout the retina\n",
    "        - but are concentrated toward the center of the field of vision at the back of the retina\n",
    "        - Short Cone corresponds to blue, Medium corresponds to green, Long corresponds to red\n",
    "        - Ratio of L to M to S = 10:5:1\n",
    "    - Rods (120 million)\n",
    "        - More sensitive to light than cones but cannot discern color. (명암)\n",
    "        - Primary receptors for night vision and detecting motion.\n",
    "        - Large amount of light overwhelms them, and they take a long time to \"reset\" and adapt to the dark again.\n",
    "        - Once fully adadpted to darkness, the rods are 10,000 times more sensitive to light than the cones.\n",
    "    - Fovea (Speical Area)\n",
    "        - Mostly cones\n",
    "        - Almost no S cones in the center of the fovea\n",
    "        - color sensitivity and resolution are highest."
   ]
  },
  {
   "cell_type": "markdown",
   "metadata": {},
   "source": [
    "## Digital cameras\n",
    "    Digital camera replaces film with a sensor array.\n",
    "    Each cell in the array is light-sensitive diode that converts photons to electrons.\n",
    "- Two common types\n",
    "    - Charged Coupled Device (CCD)\n",
    "        - CCDs move photogenerated charge from pixel to pixel and convert it to voltage at an output node.\n",
    "        - An analog-to-digital converter(ADC) then turns each pixel's value into a digital value.\n",
    "    - Complementary Metal Oxide Semiconductor (CMOS)\n",
    "        - CMOS convert charge to voltage inside each element.\n",
    "        - Uses several transistors at teach pixel to amplify and move the charge using more traditional wires.\n",
    "        - The CMOS signal is digital, so it needs no ADC.\n",
    "\n",
    "![title](img/ccd.jpg)\n",
    "### Color sensing in camera: Prism\n",
    "- Requires three chips and precise alignment\n",
    "- out of 2 cones, L/M cones cover green, human can recognize green easily.\n",
    "\n",
    "![title](img/prism1.png)\n",
    "![title](img/prism2.png)\n",
    "\n",
    "### Color sensing in camera: Color filter array\n",
    "- In traditional systems, color filters are applied to a single layer of photodetectors in a tiled mosaic patter.\n",
    "\n",
    "![title](img/color_filter_array1.jpg)\n",
    "![title](img/color_filter_array2.png)\n",
    "\n",
    "### Color sensing in camera: Foveon X3\n",
    "- CMOS sensor; takes advantage of the fact that red, blue and green light silicon to different depts.\n",
    "\n",
    "![title](img/foveonx3.png)\n"
   ]
  },
  {
   "cell_type": "markdown",
   "metadata": {},
   "source": [
    "### Image Digitization\n",
    "- Sampling\n",
    "    - Measure the value of an image at a finite number of points.\n",
    "- Quantization\n",
    "    - Represent measured value (i.e, voltage) at the sampled point by an integer."
   ]
  },
  {
   "cell_type": "markdown",
   "metadata": {},
   "source": [
    "### Alternative Color Spaces\n",
    "- Decorrelating the color channels\n",
    "    - Principal Components\n",
    "- Bringing color information to the fore:\n",
    "    - HSV\n",
    "- Perceptual uniformity\n",
    "    - CIELuv, CIELab, ...."
   ]
  },
  {
   "cell_type": "markdown",
   "metadata": {},
   "source": [
    "### Color Transformation Example\n",
    "![title](img/HSV.png)"
   ]
  },
  {
   "cell_type": "markdown",
   "metadata": {},
   "source": [
    "### Skin Color\n",
    "![title](img/skin_color.png)"
   ]
  },
  {
   "cell_type": "markdown",
   "metadata": {},
   "source": [
    "### Image File Format\n",
    "    The header contains at least the width and height of the image\n",
    "    Most header being with a signature or magic number\n",
    "![title](img/file_header.jpg)"
   ]
  }
 ],
 "metadata": {
  "language_info": {
   "name": "python"
  },
  "orig_nbformat": 4
 },
 "nbformat": 4,
 "nbformat_minor": 2
}
