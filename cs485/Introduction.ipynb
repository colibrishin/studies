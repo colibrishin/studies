{
 "cells": [
  {
   "cell_type": "markdown",
   "metadata": {},
   "source": [
    "*Based on https://www.cse.unr.edu/~bebis/CS485/*"
   ]
  },
  {
   "cell_type": "markdown",
   "metadata": {},
   "source": [
    "# Introduction to Computer Vision"
   ]
  },
  {
   "cell_type": "markdown",
   "metadata": {},
   "source": [
    "## Computer Vision\n",
    "    `컴퓨터가 보고 이해할 수 있게 만들자`\n",
    "    \n",
    "    ... From Digital Image Processing by Rafael C.Gonzalez, Richard E. Woods\n",
    "    - Digital Image Processing = 디지털 이미지를 디지털 컴퓨터를 통해 처리한다.\n",
    "        - Image - 2차원의 함수로 f(x, y)로 x와 y는 공간좌표\n",
    "            - Intensity(강도), Gray Level(회색도) = f의 어떤 좌표 (x, y)의 진폭 값\n",
    "            - Digital Image = f의 x, y 그리고 강도의 값이 유한하며, 이산적인 값들이다.\n",
    "- Computational Vision (Modeling biological vision)\n",
    "- Image Understanding (Automated scene analysis)\n",
    "- Machine Vision (Industrial)"
   ]
  },
  {
   "cell_type": "markdown",
   "metadata": {},
   "source": [
    "### Main Object = Theory + Algorithms\n",
    "    Development of the theoretical and algorithmic basis by which useful information about the 3D world can be automatically extracted and analyzed from a single or multiple 2D images of the world.\n",
    "    이론적이고 알고리즘적인 토대의 개발로 세상의 하나 또는 여러개의 2차원 이미지로부터 3차원 세상에 대한 유용한 정보를 자동으로 추출할 수 있고 분석할 수 있다."
   ]
  },
  {
   "cell_type": "markdown",
   "metadata": {},
   "source": [
    "### Image Processing\n",
    "2D Image -> (Edge detection, Fourier Transform, Enhancement etc.) -> 2D Image \\\n",
    "(2차원 이미지 -> (외각선 탐지, 푸리에 변환, 화질개선 등) -> 2차원 이미지)\n",
    "### Computer Graphics\n",
    "3D geometric data -> (Compute light interaction and geometric projection from 3D to 2D) -> 2D Image \\\n",
    "(3차원 기하 데이터 -> (빛이 어떻게 생길지 계산, 3차원에서 2차원으로 기하학적 사영) -> 2차원 이미지)\n",
    "### Computer Vision\n",
    "2D Image -> (Construct 3D geometric data from input) -> 3D geometric data \\\n",
    "(2차원 이미지 -> (입력으로 3차원 공간 데이터 만들기) -> 3차원 기하 데이터)"
   ]
  },
  {
   "cell_type": "markdown",
   "metadata": {},
   "source": [
    "### Why is Computer Vision Difficult? (왜 컴퓨터 비전이 어렵죠?)\n",
    "    @ Many-to-One Mapping 다대일 사상\n",
    "        - A variety of surfaces having (다양한 표면들은)\n",
    "            * Different material (다른 재질이거나)\n",
    "            * Different Geometrical properties (다른 기하하학적인 성질 (모양))\n",
    "            * Possibly under different lighting conditions (어쩌면, 다른 조명의 상태를 가지고 있다.)\n",
    "        - Inverse mapping has non-unique solution; (역사상이 유일한 답을 갖고 있지 않다.)\n",
    "            * a lot of information is lost in the transformation from the 3D world to the 2D image. (많은 정보가 3차원 세상에서 2차원 이미지로 변하는 동안 사라진다.)\n",
    "    @ Computationally intensive (컴퓨터 처리시 비용이 높음)\n",
    "    @ We do not understand the recogniton problem (우리는 인식 문제를 이해하지 못하고 있다. 같은 의자이지만 다른 모양/스타일, 어떻게 분류할겨? 이런게 의자가 맞아?)"
   ]
  },
  {
   "cell_type": "markdown",
   "metadata": {},
   "source": [
    "### Main Challenges (해결해야 할 주 문제들)\n",
    "- Viewpoint variations (시각의 다양성)\n",
    "- Illumination changes (조명의 차이)\n",
    "- Scale changes (크기 차이)\n",
    "- Deformation (변형)\n",
    "- Occlusions (음영)\n",
    "- Background clutter (뒷배경과의 구분)\n",
    "- Motion (움직임)\n",
    "- Intra/Inter-class variations (내/외부 분류 다양성)"
   ]
  },
  {
   "cell_type": "markdown",
   "metadata": {},
   "source": [
    "## Three levels of Processing\n",
    "### Low Level\n",
    "    Primitive operations (원시적인 처리들)\n",
    "    Geometry, Objects, Motion, Texture, Lighting, Movement, Activity etc.\n",
    "    Edge detection, Corner/Blob detection, Region segmentation\n",
    "### Mid Level\n",
    "    3D Reconstruction, Reduction of objects, Optical flow (3D 재구성, 물체 삭제, 광학 흐름 (물체의 이동, 카메라의 이동방향, 빛의 변화 등...))\n",
    "### High Level\n",
    "    Scene Interpretation (상황 설명)\n",
    "    \"Reforming cognitive functions\" (인지 능력을 부여하기!)"
   ]
  },
  {
   "cell_type": "markdown",
   "metadata": {},
   "source": [
    "## Visual Cues (시각적 단서)\n",
    "    People use information from various visual cues for recognition\n",
    "    (사람들이 인지를 위해 다양한 시각적 단서를 정보로써 사용한다.)\n",
    "- Color (색깔)\n",
    "- Texture (표면)\n",
    "- Shape (모양)\n",
    "- Grouping (Similarity) (연관된 정보 합치기)\n",
    "- Depth (심도)\n",
    "- Shading (명암)"
   ]
  }
 ],
 "metadata": {
  "language_info": {
   "name": "python"
  },
  "orig_nbformat": 4
 },
 "nbformat": 4,
 "nbformat_minor": 2
}
