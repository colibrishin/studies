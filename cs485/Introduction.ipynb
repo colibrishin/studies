{
 "cells": [
  {
   "cell_type": "markdown",
   "metadata": {},
   "source": [
    "*Based on https://www.cse.unr.edu/~bebis/CS485/*"
   ]
  },
  {
   "cell_type": "markdown",
   "metadata": {},
   "source": [
    "# Introduction to Computer Vision"
   ]
  },
  {
   "cell_type": "markdown",
   "metadata": {},
   "source": [
    "## Computer Vision\n",
    "    `Making computers see and understand`\n",
    "    \n",
    "    ... From Digital Image Processing by Rafael C.Gonzalez, Richard E. Woods\n",
    "    - Digital Image Processing = Processing digital images by means of a digital computer.\n",
    "        - Image - a two-dimensional function, f(x,y), where x and y are spatial coordinates.\n",
    "            - Intensity, gray level of the image at that point = the amplitude of f at any pair of coordinates (x,y)\n",
    "            - Digital Image = x, y, and the intensity values of f are all finite, discrete quantities\n",
    "- Computational Vision (Modeling biological vision)\n",
    "- Image Understanding (Automated scene analysis)\n",
    "- Machine Vision (Industrial)"
   ]
  },
  {
   "cell_type": "markdown",
   "metadata": {},
   "source": [
    "### Main Object = Theory + Algorithms\n",
    "    Deveolpment of the theoretical and algorithmic basis by which useful information about the 3D world can be automatically extracted any analyzed from a single or multiple 2D images of the world."
   ]
  },
  {
   "cell_type": "markdown",
   "metadata": {},
   "source": [
    "### Image Processing\n",
    "2D image -> (Edge detection, Fourier Transform, Enchancement etc.) -> 2D Image\n",
    "### Computer Graphics\n",
    "3D geometric data -> (Compute light interaction and geometric projection from 3D to 2D) -> 2D Image\n",
    "### Computer Vision\n",
    "2D Image -> (Construct 3D geometric data from input) -> 3D geometric data"
   ]
  },
  {
   "cell_type": "markdown",
   "metadata": {},
   "source": [
    "### Why is Computer Vision Difficult?\n",
    "    @ Many-to-One Mapping\n",
    "        - A variety of surfaces having \n",
    "            * Different material\n",
    "            * Geometrical properties\n",
    "            * Possibly under different lighting conditions\n",
    "        - Inverse mapping has non-unique solution;\n",
    "            * a lot of information is lost in the transformation from the 3D world to the 2D image.\n",
    "    @ Computationally intensive\n",
    "    @ We do not understand the recogniton problem (Same Chair, different style/type etc -> Intra-class variation)"
   ]
  },
  {
   "cell_type": "markdown",
   "metadata": {},
   "source": [
    "### Main Challenges\n",
    "- Viewpoint variations\n",
    "- Illumination changes\n",
    "- Scale changes\n",
    "- Deformation\n",
    "- Occlusions\n",
    "- Background clutter\n",
    "- Motion\n",
    "- Intra/Inter-class variations"
   ]
  },
  {
   "cell_type": "markdown",
   "metadata": {},
   "source": [
    "## Three levels of Processing\n",
    "### Low Level\n",
    "    Primitive operations\n",
    "    Geometry, Objects, Motion, Texture, Lighting, Movement, Activity etc.\n",
    "    Edge detection, Corner/Blob detection, Region segmentation, \n",
    "### Mid Level\n",
    "    3D Reconstruction, Segmentation, Reduction of objects, Classification, Optical flow\n",
    "### High Level\n",
    "    Scene Interpretation\n",
    "    \"Reforming cognitive functions\""
   ]
  },
  {
   "cell_type": "markdown",
   "metadata": {},
   "source": [
    "## Visual Cues\n",
    "    People use information from various visual cues for recognition\n",
    "- Color\n",
    "- Texture\n",
    "- Shape\n",
    "- Grouping (Similarity)\n",
    "- Depth\n",
    "- Shading"
   ]
  }
 ],
 "metadata": {
  "language_info": {
   "name": "python"
  },
  "orig_nbformat": 4
 },
 "nbformat": 4,
 "nbformat_minor": 2
}
