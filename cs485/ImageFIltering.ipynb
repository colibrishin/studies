{
 "cells": [
  {
   "cell_type": "markdown",
   "metadata": {},
   "source": [
    "*Based on https://medium.com/vithelper/spatial-and-frequency-domain-image-processing-83ffa3fc7cbc https://www.cse.unr.edu/~bebis/CS485/*"
   ]
  },
  {
   "cell_type": "markdown",
   "metadata": {},
   "source": [
    "# Image Filtering\n",
    "## Methods\n",
    "![title](img/spatial-to-frequency.png)\n",
    "### Spatial Domain\n",
    "$$\n",
    "f(x, y) → \\text{Operation }R → g(x, y)\n",
    "$$\n",
    "- *the spatial domain is represented as a 3D Vector of 2D matrices. Each 2D matrix contains the intensities for a single color.*\n",
    "- Applying Operation R on image as spatial domain.\n",
    "### Frequency Domain (i.e., Fourier Transform)\n",
    "$$\n",
    "f(x, y) → \\text{Transform }T(u, v) → \\text{Operation }R → \\text{Inverse Transfrom} → g(x, y)\n",
    "$$\n",
    "- the methods which are based on Fourier Transform of an image.\n",
    "- *Roughly, the term frequncy in an image tells about the rate of change of pixel values.*"
   ]
  },
  {
   "cell_type": "markdown",
   "metadata": {},
   "source": [
    "![title](img/Screenshot_2668.png)\n",
    "- [A real-time detection and positioning method for small and weak targets using a 1D morphology-based approach in 2D images](https://www.researchgate.net/publication/324947104_A_real-time_detection_and_positioning_method_for_small_and_weak_targets_using_a_1D_morphology-based_approach_in_2D_images)"
   ]
  }
 ],
 "metadata": {
  "language_info": {
   "name": "python"
  },
  "orig_nbformat": 4
 },
 "nbformat": 4,
 "nbformat_minor": 2
}
