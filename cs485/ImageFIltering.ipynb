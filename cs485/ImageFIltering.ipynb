{
 "cells": [
  {
   "cell_type": "markdown",
   "metadata": {},
   "source": [
    "*Based on https://medium.com/vithelper/spatial-and-frequency-domain-image-processing-83ffa3fc7cbc https://www.cse.unr.edu/~bebis/CS485/*"
   ]
  },
  {
   "cell_type": "markdown",
   "metadata": {},
   "source": [
    "# Image Filtering\n",
    "## Methods\n",
    "![title](img/spatial-to-frequency.png)\n",
    "### Spatial Domain\n",
    "$$\n",
    "f(x, y) → \\text{Operation }R → g(x, y)\n",
    "$$\n",
    "- *the spatial domain is represented as a 3D Vector of 2D matrices. Each 2D matrix contains the intensities for a single color.*\n",
    "- Applying Operation R on image as spatial domain.\n",
    "### Frequency Domain (i.e., Fourier Transform)\n",
    "$$\n",
    "f(x, y) → \\text{Transform }T(u, v) → \\text{Operation }R → \\text{Inverse Transfrom} → g(x, y)\n",
    "$$\n",
    "- the methods which are based on Fourier Transform of an image.\n",
    "- *Roughly, the term frequncy in an image tells about the rate of change of pixel values.*"
   ]
  },
  {
   "cell_type": "markdown",
   "metadata": {},
   "source": [
    "![title](img/Screenshot_2668.png)\n",
    "- [A real-time detection and positioning method for small and weak targets using a 1D morphology-based approach in 2D images](https://www.researchgate.net/publication/324947104_A_real-time_detection_and_positioning_method_for_small_and_weak_targets_using_a_1D_morphology-based_approach_in_2D_images)"
   ]
  },
  {
   "cell_type": "markdown",
   "metadata": {},
   "source": [
    "### Point Processing Methods\n",
    "    Converts a given pixel value to a new pixel value based on some predefined function.\n",
    "![title](img/point_processing_methods.png)\n",
    "- Negative\n",
    "- Contrast stretching\n",
    "- Thresholding\n",
    "- Histogram Equalizaiton \\\n",
    "![title](img/hist_equal.png)\n",
    "\n",
    "https://staff.fnwi.uva.nl/r.vandenboomgaard/IPCV20162017/LectureNotes/IP/PointOperators/HistogramEqualization.html"
   ]
  },
  {
   "cell_type": "markdown",
   "metadata": {},
   "source": [
    "### Area Processing Methods\n",
    "    Requires\n",
    "    (1) Area shape and size -> Typically defined using a rectangular mask, **size is determined by mask size. size is an important parameter**\n",
    "    (2) Operation -> Typically linear combination of pixel values. different results can be obtained using different weights. (e.g, smoothing, sharpening, edge detection etc...)\n",
    "![title](img/area_processing_examples.png)"
   ]
  },
  {
   "cell_type": "markdown",
   "metadata": {},
   "source": [
    "### Common Linear Operations\n",
    "#### Corrleation\n",
    "    A filtered image is generated as the **center** of the mask visits every pixel in the input image. (window-shifting)\n",
    "![title](img/correlation.png)\n",
    "##### Handling Pixels Close to Boundaries\n",
    "- pad with zeros \\\n",
    "![title](img/padzero.png)\n",
    "- wrap around (like a ball) \\\n",
    "![title](img/wrap.png)\n",
    "##### Geometric Interporetation of Correlation\n",
    "$$\n",
    "\\text{Suppose }x\\text{ and }y\\text{ are two n-dimensinal vectors: } \\newline\n",
    "x = (x_1,x_2, ..., x_n), y = (y_1, y_2, ..., y_n)\n",
    "$$\n",
    "\n",
    "$$\n",
    "\\text{The dot product of }x\\text{ with }y\\text{ is defined as: } \\newline\n",
    "x.y = x_1y_1 + x_2y_2 + ... + x_ny_n\n",
    "$$\n",
    "\n",
    "$$\n",
    "\\text{Using vector notation: } \\newline\n",
    "x.y = |x||y|cos(\\theta)\n",
    "$$\n",
    "\n",
    "$$\n",
    "cos(\\theta)\\text{ measures the similarity between }x\\text{ and }y\\text{: } \\newline\n",
    "x.y = |x||y|cos(\\theta)\\text{ or }cos(\\theta) = \\frac{xy}{|x||y|}\n",
    "$$\n",
    "\n",
    "$$\n",
    "\\text{Normalized correlation (i.e., divide by lengths): } \\newline\n",
    "$$\n",
    "![title](img/normalized_correlation.png)\n",
    "\n",
    "##### Normalized Correlation\n",
    "    Measure the similarity between images or parts of images.\n",
    "![title](img/normalized_correlation_example.png)\n",
    "- Traditional correlation cannot handle changes\n",
    "    - Size\n",
    "    - Orientation\n",
    "    - Shape (e.g., deformable objects)\n",
    "\n",
    "#### Convolution\n",
    "    Same as correlation except that the mask is flipped, both horizontally and veritcally.\n",
    "    For symmertric masks (i.e., h(i,j) = h(-i, -j)), convolution is equivalent to correlation.\n",
    "![title](img/correlation_vs_convolution.png)\n",
    "\n",
    "#### How do we choose the mask weights?\n",
    "    Usually by sampling certain functions and their derivatives.\n",
    "![title](img/gaussian.png)\n",
    "\n",
    "- Gaussian\n",
    "    - Good for image smoothing\n",
    "    - Good for sharpening\n",
    "\n",
    "#### Normalization of Mask Weights\n",
    "    Sum of weights affects overall intensity of output image\n",
    "    - Property of derivative masks\n",
    "    Positive weights - Normalize them such that they sum to one\n",
    "    Positive/Negative Weights - Should sum to **zero** (But not always)\n",
    "![title](img/mask_weights.png)"
   ]
  },
  {
   "cell_type": "markdown",
   "metadata": {},
   "source": [
    "#### Smoothing Using Averaging\n",
    "    Replace each pixel by the average of its neighbors.\n",
    "    Useful for reducing noise and unimportant details.\n",
    "    The size of the mask controls the amount of smoothing.\n",
    "![title](img/smoothing.png)\n",
    "\n",
    "- Trade-off : noise vs blurring and loss of detail.\n",
    "![title](img/smoothing-examples.png)"
   ]
  },
  {
   "cell_type": "markdown",
   "metadata": {},
   "source": [
    "#### Gaussian Smoothing\n",
    "    Replace each pixel by a weighted average of its neighbors\n",
    "    Mask weights are computed by sampling a Gaussian function\n",
    "![title](img/gaussian_smoothing.png)\n",
    "mask size depends on $\\sigma \\text{: height = width = }5\\sigma \\text{ (subtends 98.76\\% of the area)}$ \\\n",
    "$\\sigma$ determines the degree of smoothing!\n",
    "![title](img/gaussian_smoothing_sigma.png)"
   ]
  },
  {
   "cell_type": "markdown",
   "metadata": {},
   "source": [
    "##### Properties of Gaussian\n",
    "- Convolution with self is anothor Gaussian \\\n",
    "$G_{\\sigma_1}(X) \\cdot G_{\\sigma_2}(X)=G_{\\sqrt{\\sigma_1^2+\\sigma_2^2}}(X)$\n",
    "- Convolving two times with Gaussian kernel of width $\\sigma$ is equivalent to convolving once with kernel of width $\\sigma{\\sqrt{2}}$\n",
    "- Separable kernel\n",
    "    - a 2D Gaussian can be expressed as the product of two 1D Gaussians.\n",
    "    $$G_\\sigma(x,y) = \\frac{1}{2\\pi\\sigma^2}\\exp({-\\frac{x^2+y^2}{2\\sigma^2})}\n",
    "    = (\\frac{1}{\\sqrt{2{\\pi}}{\\sigma}}\\exp({-\\frac{x^2}{2\\sigma^2}}) \\cdot (\\frac{1}{\\sqrt{2{\\pi}}{\\sigma}}\\exp({-\\frac{y^2}{2\\sigma^2}}))\n",
    "    $$\n",
    "    *OoC, interesting post : https://tex.stackexchange.com/questions/254785/e-vs-exp-in-display-mode*\n",
    "- 2D Gaussian convolution can be implemented more efficiently using 1D convolutions\n",
    "$$\n",
    "g(i, j) = \\sum_{k=-n/2}^{n/2}\\sum_{l=-n/2}^{n/2}h(k,l)f(i-k, j-l) = \\newline\n",
    "\\sum_{k=-n/2}^{n/2}\\sum_{l=-n/2}^{n/2}\\exp[\\frac{-(k^2 + l^2)}{2\\sigma^2}]f(i-k, j-l) = \\newline\n",
    "\\sum_{k=-n/2}^{n/2}\\exp[\\frac{-k^2}{2\\sigma^2}]\\sum_{l=-n/2}^{n/2}\\exp[\\frac{-l^2}{2\\sigma^2}]f(i-k, j-l)\n",
    "$$\n",
    "- Example \\\n",
    "    ![title](img/gaussian_2d.jpg)\\\n",
    "    $O(n^2)$\n",
    "    ![title](img/1d_gaussian.png)\\\n",
    "    $O(2n) = O(n)$\n",
    "\n",
    "- Process\n",
    "    - To convolve an image $I$ with a $n \\times n$ 2D Gaussian mask $G$ with $\\sigma = \\sigma_g$\n",
    "        1. Build a 1D Gaussian mask $g$, of width $n$, with $\\sigma_g$\n",
    "        2. Convolve each roch of $I$ with $g$, get a new image $I_r$\n",
    "        3. Convolve each column of $I_r$ with $g$"
   ]
  },
  {
   "cell_type": "markdown",
   "metadata": {},
   "source": [
    "#### Image Sharpening\n",
    "    Compute intensity differences in local image regions.\n",
    "    Useful for emphasizing transitions in intensity (e.g., in edge detection)\n",
    "![title](img/gaussian_sharpening.png)"
   ]
  }
 ],
 "metadata": {
  "language_info": {
   "name": "python"
  },
  "orig_nbformat": 4
 },
 "nbformat": 4,
 "nbformat_minor": 2
}
